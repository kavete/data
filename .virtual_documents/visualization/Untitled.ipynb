import matplotlib.pyplot as plt


import numpy as np


xpoints= np.array([1,2,3,4,5])
ypoints= np.array([45, 34, 87, 65, 58])


plt.plot(xpoints, ypoints)
plt.show()



