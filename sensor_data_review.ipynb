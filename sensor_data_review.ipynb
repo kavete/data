{
 "cells": [
  {
   "cell_type": "code",
   "execution_count": 19,
   "id": "a13869a1-3755-48f3-a0ef-67653ccf86cc",
   "metadata": {},
   "outputs": [],
   "source": [
    "import pandas as pd\n",
    "import matplotlib.pyplot as plt\n",
    "import numpy as np"
   ]
  },
  {
   "cell_type": "code",
   "execution_count": 2,
   "id": "53b1b346-f31c-4215-90e8-d3c902ed72a7",
   "metadata": {},
   "outputs": [],
   "source": [
    "sensor_data = pd.read_csv(\"sensor_data.csv\")"
   ]
  },
  {
   "cell_type": "code",
   "execution_count": 3,
   "id": "41bb6b1a-4f32-4570-9016-0b92830e0220",
   "metadata": {},
   "outputs": [
    {
     "data": {
      "text/html": [
       "<div>\n",
       "<style scoped>\n",
       "    .dataframe tbody tr th:only-of-type {\n",
       "        vertical-align: middle;\n",
       "    }\n",
       "\n",
       "    .dataframe tbody tr th {\n",
       "        vertical-align: top;\n",
       "    }\n",
       "\n",
       "    .dataframe thead th {\n",
       "        text-align: right;\n",
       "    }\n",
       "</style>\n",
       "<table border=\"1\" class=\"dataframe\">\n",
       "  <thead>\n",
       "    <tr style=\"text-align: right;\">\n",
       "      <th></th>\n",
       "      <th>temperature</th>\n",
       "      <th>humidity</th>\n",
       "    </tr>\n",
       "  </thead>\n",
       "  <tbody>\n",
       "    <tr>\n",
       "      <th>0</th>\n",
       "      <td>26.2</td>\n",
       "      <td>83.5</td>\n",
       "    </tr>\n",
       "    <tr>\n",
       "      <th>1</th>\n",
       "      <td>26.2</td>\n",
       "      <td>83.5</td>\n",
       "    </tr>\n",
       "    <tr>\n",
       "      <th>2</th>\n",
       "      <td>26.2</td>\n",
       "      <td>83.5</td>\n",
       "    </tr>\n",
       "    <tr>\n",
       "      <th>3</th>\n",
       "      <td>26.2</td>\n",
       "      <td>83.5</td>\n",
       "    </tr>\n",
       "    <tr>\n",
       "      <th>4</th>\n",
       "      <td>26.2</td>\n",
       "      <td>83.5</td>\n",
       "    </tr>\n",
       "    <tr>\n",
       "      <th>...</th>\n",
       "      <td>...</td>\n",
       "      <td>...</td>\n",
       "    </tr>\n",
       "    <tr>\n",
       "      <th>360</th>\n",
       "      <td>26.2</td>\n",
       "      <td>81.3</td>\n",
       "    </tr>\n",
       "    <tr>\n",
       "      <th>361</th>\n",
       "      <td>26.2</td>\n",
       "      <td>81.2</td>\n",
       "    </tr>\n",
       "    <tr>\n",
       "      <th>362</th>\n",
       "      <td>26.2</td>\n",
       "      <td>81.2</td>\n",
       "    </tr>\n",
       "    <tr>\n",
       "      <th>363</th>\n",
       "      <td>26.2</td>\n",
       "      <td>81.4</td>\n",
       "    </tr>\n",
       "    <tr>\n",
       "      <th>364</th>\n",
       "      <td>26.2</td>\n",
       "      <td>81.6</td>\n",
       "    </tr>\n",
       "  </tbody>\n",
       "</table>\n",
       "<p>365 rows × 2 columns</p>\n",
       "</div>"
      ],
      "text/plain": [
       "     temperature  humidity\n",
       "0           26.2      83.5\n",
       "1           26.2      83.5\n",
       "2           26.2      83.5\n",
       "3           26.2      83.5\n",
       "4           26.2      83.5\n",
       "..           ...       ...\n",
       "360         26.2      81.3\n",
       "361         26.2      81.2\n",
       "362         26.2      81.2\n",
       "363         26.2      81.4\n",
       "364         26.2      81.6\n",
       "\n",
       "[365 rows x 2 columns]"
      ]
     },
     "execution_count": 3,
     "metadata": {},
     "output_type": "execute_result"
    }
   ],
   "source": [
    "sensor_data"
   ]
  },
  {
   "cell_type": "code",
   "execution_count": 4,
   "id": "da299acf-c44b-4cc6-84fe-3e2499bf7cf5",
   "metadata": {},
   "outputs": [
    {
     "data": {
      "text/plain": [
       "<bound method NDFrame.describe of      temperature  humidity\n",
       "0           26.2      83.5\n",
       "1           26.2      83.5\n",
       "2           26.2      83.5\n",
       "3           26.2      83.5\n",
       "4           26.2      83.5\n",
       "..           ...       ...\n",
       "360         26.2      81.3\n",
       "361         26.2      81.2\n",
       "362         26.2      81.2\n",
       "363         26.2      81.4\n",
       "364         26.2      81.6\n",
       "\n",
       "[365 rows x 2 columns]>"
      ]
     },
     "execution_count": 4,
     "metadata": {},
     "output_type": "execute_result"
    }
   ],
   "source": [
    "sensor_data.describe"
   ]
  },
  {
   "cell_type": "code",
   "execution_count": 10,
   "id": "42bb5461-c51b-4418-8a2c-4c4d980df028",
   "metadata": {},
   "outputs": [],
   "source": [
    "temperature = sensor_data[\"temperature\"]"
   ]
  },
  {
   "cell_type": "code",
   "execution_count": 11,
   "id": "e8bcdbab-98f4-4343-8fb9-1ed150a208a7",
   "metadata": {},
   "outputs": [
    {
     "data": {
      "text/plain": [
       "<bound method Series.mean of 0      26.2\n",
       "1      26.2\n",
       "2      26.2\n",
       "3      26.2\n",
       "4      26.2\n",
       "       ... \n",
       "360    26.2\n",
       "361    26.2\n",
       "362    26.2\n",
       "363    26.2\n",
       "364    26.2\n",
       "Name: temperature, Length: 365, dtype: float64>"
      ]
     },
     "execution_count": 11,
     "metadata": {},
     "output_type": "execute_result"
    }
   ],
   "source": [
    "sensor_data[\"temperature\"].mean"
   ]
  },
  {
   "cell_type": "code",
   "execution_count": 13,
   "id": "6f6cf67e-6a40-4ff3-b4f5-da86bdbf5f25",
   "metadata": {},
   "outputs": [],
   "source": [
    "humidity = sensor_data[\"humidity\"]"
   ]
  },
  {
   "cell_type": "code",
   "execution_count": 9,
   "id": "86f63a7b-2cb3-4e9a-a61e-83a1ec002864",
   "metadata": {},
   "outputs": [
    {
     "data": {
      "text/plain": [
       "<bound method Series.mean of 0      83.5\n",
       "1      83.5\n",
       "2      83.5\n",
       "3      83.5\n",
       "4      83.5\n",
       "       ... \n",
       "360    81.3\n",
       "361    81.2\n",
       "362    81.2\n",
       "363    81.4\n",
       "364    81.6\n",
       "Name: humidity, Length: 365, dtype: float64>"
      ]
     },
     "execution_count": 9,
     "metadata": {},
     "output_type": "execute_result"
    }
   ],
   "source": [
    "sensor_data[\"humidity\"].mean"
   ]
  },
  {
   "cell_type": "code",
   "execution_count": 16,
   "id": "1711f314-22a3-4b51-9e0a-a7af816bc03c",
   "metadata": {},
   "outputs": [
    {
     "data": {
      "image/png": "[encoded data removed]",
      "text/plain": [
       "<Figure size 640x480 with 1 Axes>"
      ]
     },
     "metadata": {},
     "output_type": "display_data"
    }
   ],
   "source": [
    "plt.hist(humidity)\n",
    "plt.show()"
   ]
  },
  {
   "cell_type": "code",
   "execution_count": 18,
   "id": "bd8db804-b0c1-430d-801d-b469c145387b",
   "metadata": {},
   "outputs": [
    {
     "data": {
      "image/png": "[encoded data removed]",
      "text/plain": [
       "<Figure size 640x480 with 1 Axes>"
      ]
     },
     "metadata": {},
     "output_type": "display_data"
    }
   ],
   "source": [
    "plt.hist(temperature);"
   ]
  },
  {
   "cell_type": "code",
   "execution_count": 31,
   "id": "d2aa4389-9b03-41d5-b1b4-5ddd81e582a3",
   "metadata": {},
   "outputs": [],
   "source": [
    "arr = (range(365))"
   ]
  },
  {
   "cell_type": "code",
   "execution_count": 32,
   "id": "f267043b-3c02-47d2-8865-c8287485b460",
   "metadata": {},
   "outputs": [
    {
     "data": {
      "text/plain": [
       "range(0, 365)"
      ]
     },
     "execution_count": 32,
     "metadata": {},
     "output_type": "execute_result"
    }
   ],
   "source": [
    "arr"
   ]
  },
  {
   "cell_type": "code",
   "execution_count": 34,
   "id": "cc1a0249-eb23-4720-afb4-02d58b328cb4",
   "metadata": {},
   "outputs": [
    {
     "data": {
      "image/png": "[encoded data removed]",
      "text/plain": [
       "<Figure size 640x480 with 1 Axes>"
      ]
     },
     "metadata": {},
     "output_type": "display_data"
    }
   ],
   "source": [
    "plt.plot(arr, temperature);"
   ]
  },
  {
   "cell_type": "code",
   "execution_count": 35,
   "id": "54b0370d-d9c0-43ba-9a06-ef9ae4cec35e",
   "metadata": {},
   "outputs": [
    {
     "data": {
      "text/plain": [
       "[<matplotlib.lines.Line2D at 0x1c5e68f0b90>]"
      ]
     },
     "execution_count": 35,
     "metadata": {},
     "output_type": "execute_result"
    },
    {
     "data": {
      "image/png": "[encoded data removed]",
      "text/plain": [
       "<Figure size 640x480 with 1 Axes>"
      ]
     },
     "metadata": {},
     "output_type": "display_data"
    }
   ],
   "source": [
    "plt.plot(arr, humidity)"
   ]
  },
  {
   "cell_type": "code",
   "execution_count": 36,
   "id": "698aa833-75b8-4767-b6ed-e44eaa948529",
   "metadata": {},
   "outputs": [
    {
     "data": {
      "text/plain": [
       "array([83.5, 83.5, 83.5, 83.5, 83.5, 83.5, 83.5, 83.6, 83.7, 83.6, 83.7,\n",
       "       83.6, 91.1, 90.2, 88.2, 86.8, 85.8, 85.1, 84.6, 84.2, 84.1, 84.1,\n",
       "       84. , 83.8, 83.6, 83.5, 83.5, 83.4, 83.3, 83.2, 83.2, 83.3, 83.4,\n",
       "       83.3, 83.2, 83.2, 83.2, 83.1, 83.1, 83.1, 83.1, 83.1, 83.1, 83.2,\n",
       "       83.1, 83. , 83. , 83. , 83. , 83. , 82.9, 83. , 82.9, 82.9, 82.9,\n",
       "       82.9, 82.9, 82.9, 82.9, 82.9, 82.9, 82.9, 82.9, 82.9, 82.9, 82.9,\n",
       "       82.9, 83. , 83. , 83. , 83. , 83. , 83. , 82.9, 82.9, 82.9, 82.9,\n",
       "       82.9, 82.7, 82.6, 82.7, 82.7, 82.7, 82.8, 82.7, 82.6, 82.5, 82.6,\n",
       "       83. , 83.3, 83.3, 83.3, 83. , 82.7, 82.7, 82.6, 82.6, 82.6, 82.6,\n",
       "       82.4, 82.4, 82.6, 82.8, 83. , 83. , 82.8, 82.7, 82.5, 82.7, 83.1,\n",
       "       83.1, 82.8, 82.6, 82.3, 82.1, 82.2, 83.2, 83.4, 83.1, 82.8, 82.6,\n",
       "       82.4, 82.4, 82.3, 82.4, 82.4, 82.4, 82.4, 82.5, 82.6, 82.7, 82.8,\n",
       "       82.8, 82.8, 82.7, 82.8, 83. , 83. , 82.9, 82.9, 82.7, 82.8, 82.6,\n",
       "       82.4, 82.4, 82.4, 82.6, 82.6, 82.5, 82.4, 82.4, 82.3, 82.2, 82.2,\n",
       "       82.3, 82.3, 82.4, 82.4, 82.3, 82.2, 82.2, 82.4, 82.2, 82.2, 82.1,\n",
       "       82.2, 82.3, 83. , 83.2, 82.9, 82.6, 82.4, 82.2, 82.3, 82.5, 82.4,\n",
       "       82.4, 82.4, 82.5, 82.6, 82.6, 82.5, 82.4, 82.3, 82.4, 82.5, 82.6,\n",
       "       82.6, 82.6, 82.5, 82.5, 82.6, 82.6, 82.6, 82.6, 82.6, 82.7, 82.6,\n",
       "       82.6, 82.7, 82.6, 82.6, 82.5, 82.5, 82.4, 82.4, 82.5, 82.5, 82.5,\n",
       "       82.5, 82.4, 82.3, 82.3, 82.2, 82.2, 82.2, 82.2, 82.2, 82.2, 82.1,\n",
       "       82.1, 82.2, 82.2, 82.2, 82.1, 82.1, 82.2, 82.5, 82.8, 82.7, 82.6,\n",
       "       82.5, 82.5, 82.3, 82.5, 82.5, 82.5, 82.4, 82.4, 82.3, 82.3, 82.2,\n",
       "       82.2, 82.2, 82.2, 82.1, 82.1, 82.2, 82.2, 82.2, 82.3, 82.2, 82.1,\n",
       "       81.9, 81.9, 82. , 82.1, 82.1, 82.2, 82.2, 82.2, 82.2, 82.2, 82.2,\n",
       "       82.2, 82.2, 82.3, 82.4, 82.5, 82.4, 82.4, 82.4, 82.3, 82.4, 82.4,\n",
       "       82.3, 82.3, 82.4, 82.4, 82.5, 82.5, 82.5, 82.4, 82.3, 82.3, 82.3,\n",
       "       82.3, 82.3, 82.4, 82.4, 82.2, 82.3, 82.3, 82.3, 82.3, 82.3, 82.2,\n",
       "       82.2, 82.2, 82.2, 82.2, 82. , 81.9, 81.9, 81.9, 82.1, 82.2, 82.2,\n",
       "       82.1, 82. , 82. , 81.9, 81.9, 82.3, 82. , 81.8, 81.7, 81.6, 81.7,\n",
       "       81.7, 81.8, 81.7, 81.5, 81.5, 81.4, 81.4, 81.4, 81.4, 81.4, 81.4,\n",
       "       81.5, 81.5, 81.4, 81.3, 81.4, 81.4, 81.4, 81.3, 81.3, 81.2, 81.2,\n",
       "       81.2, 81.1, 81.1, 81.1, 81.2, 81.3, 81.4, 81.3, 81.4, 81.4, 81.5,\n",
       "       81.4, 81.3, 81.2, 81.3, 81.3, 81.4, 81.4, 81.3, 81.3, 81.2, 81.2,\n",
       "       81.4, 81.6])"
      ]
     },
     "execution_count": 36,
     "metadata": {},
     "output_type": "execute_result"
    }
   ],
   "source": [
    "humidity_arr = np.array(sensor_data[\"humidity\"])\n",
    "humidity_arr"
   ]
  },
  {
   "cell_type": "code",
   "execution_count": 37,
   "id": "00f764af-c50e-4112-b988-b17619e98713",
   "metadata": {},
   "outputs": [
    {
     "data": {
      "text/plain": [
       "np.float64(91.1)"
      ]
     },
     "execution_count": 37,
     "metadata": {},
     "output_type": "execute_result"
    }
   ],
   "source": [
    "np.max(humidity_arr)"
   ]
  },
  {
   "cell_type": "code",
   "execution_count": 38,
   "id": "eb7c0799-e63e-4d1f-8db4-668f5d889de8",
   "metadata": {},
   "outputs": [
    {
     "data": {
      "text/plain": [
       "np.float64(81.1)"
      ]
     },
     "execution_count": 38,
     "metadata": {},
     "output_type": "execute_result"
    }
   ],
   "source": [
    "np.min(humidity_arr)"
   ]
  },
  {
   "cell_type": "code",
   "execution_count": 39,
   "id": "3e45ff37-4699-48e2-ada8-9b5ee3ea62ec",
   "metadata": {},
   "outputs": [
    {
     "data": {
      "text/html": [
       "<div>\n",
       "<style scoped>\n",
       "    .dataframe tbody tr th:only-of-type {\n",
       "        vertical-align: middle;\n",
       "    }\n",
       "\n",
       "    .dataframe tbody tr th {\n",
       "        vertical-align: top;\n",
       "    }\n",
       "\n",
       "    .dataframe thead th {\n",
       "        text-align: right;\n",
       "    }\n",
       "</style>\n",
       "<table border=\"1\" class=\"dataframe\">\n",
       "  <thead>\n",
       "    <tr style=\"text-align: right;\">\n",
       "      <th></th>\n",
       "      <th>ward_temperature</th>\n",
       "      <th>ward_humidity</th>\n",
       "    </tr>\n",
       "  </thead>\n",
       "  <tbody>\n",
       "    <tr>\n",
       "      <th>0</th>\n",
       "      <td>22.7</td>\n",
       "      <td>84.1</td>\n",
       "    </tr>\n",
       "    <tr>\n",
       "      <th>1</th>\n",
       "      <td>22.7</td>\n",
       "      <td>83.9</td>\n",
       "    </tr>\n",
       "    <tr>\n",
       "      <th>2</th>\n",
       "      <td>22.7</td>\n",
       "      <td>84.0</td>\n",
       "    </tr>\n",
       "    <tr>\n",
       "      <th>3</th>\n",
       "      <td>22.7</td>\n",
       "      <td>84.0</td>\n",
       "    </tr>\n",
       "    <tr>\n",
       "      <th>4</th>\n",
       "      <td>22.7</td>\n",
       "      <td>84.0</td>\n",
       "    </tr>\n",
       "    <tr>\n",
       "      <th>...</th>\n",
       "      <td>...</td>\n",
       "      <td>...</td>\n",
       "    </tr>\n",
       "    <tr>\n",
       "      <th>1238</th>\n",
       "      <td>23.8</td>\n",
       "      <td>84.7</td>\n",
       "    </tr>\n",
       "    <tr>\n",
       "      <th>1239</th>\n",
       "      <td>23.8</td>\n",
       "      <td>85.5</td>\n",
       "    </tr>\n",
       "    <tr>\n",
       "      <th>1240</th>\n",
       "      <td>23.9</td>\n",
       "      <td>85.7</td>\n",
       "    </tr>\n",
       "    <tr>\n",
       "      <th>1241</th>\n",
       "      <td>23.8</td>\n",
       "      <td>85.6</td>\n",
       "    </tr>\n",
       "    <tr>\n",
       "      <th>1242</th>\n",
       "      <td>23.9</td>\n",
       "      <td>85.4</td>\n",
       "    </tr>\n",
       "  </tbody>\n",
       "</table>\n",
       "<p>1243 rows × 2 columns</p>\n",
       "</div>"
      ],
      "text/plain": [
       "      ward_temperature  ward_humidity\n",
       "0                 22.7           84.1\n",
       "1                 22.7           83.9\n",
       "2                 22.7           84.0\n",
       "3                 22.7           84.0\n",
       "4                 22.7           84.0\n",
       "...                ...            ...\n",
       "1238              23.8           84.7\n",
       "1239              23.8           85.5\n",
       "1240              23.9           85.7\n",
       "1241              23.8           85.6\n",
       "1242              23.9           85.4\n",
       "\n",
       "[1243 rows x 2 columns]"
      ]
     },
     "execution_count": 39,
     "metadata": {},
     "output_type": "execute_result"
    }
   ],
   "source": [
    "sensor_data_2 = pd.read_csv(\"sensor_data_2.csv\")\n",
    "sensor_data_2"
   ]
  },
  {
   "cell_type": "code",
   "execution_count": 40,
   "id": "111ffaf2-c4c6-4656-8024-6aa5b1e2093f",
   "metadata": {},
   "outputs": [
    {
     "data": {
      "text/plain": [
       "<bound method NDFrame.describe of       ward_temperature  ward_humidity\n",
       "0                 22.7           84.1\n",
       "1                 22.7           83.9\n",
       "2                 22.7           84.0\n",
       "3                 22.7           84.0\n",
       "4                 22.7           84.0\n",
       "...                ...            ...\n",
       "1238              23.8           84.7\n",
       "1239              23.8           85.5\n",
       "1240              23.9           85.7\n",
       "1241              23.8           85.6\n",
       "1242              23.9           85.4\n",
       "\n",
       "[1243 rows x 2 columns]>"
      ]
     },
     "execution_count": 40,
     "metadata": {},
     "output_type": "execute_result"
    }
   ],
   "source": [
    "sensor_data_2.describe"
   ]
  },
  {
   "cell_type": "code",
   "execution_count": 41,
   "id": "81e5f209-e74b-4962-ad54-3f1cbb862557",
   "metadata": {},
   "outputs": [
    {
     "data": {
      "text/plain": [
       "1238    23.8\n",
       "1239    23.8\n",
       "1240    23.9\n",
       "1241    23.8\n",
       "1242    23.9\n",
       "Name: ward_temperature, dtype: float64"
      ]
     },
     "execution_count": 41,
     "metadata": {},
     "output_type": "execute_result"
    }
   ],
   "source": [
    "ward_temperature = sensor_data_2[\"ward_temperature\"]\n",
    "ward_temperature.tail()"
   ]
  },
  {
   "cell_type": "code",
   "execution_count": 42,
   "id": "d1953f3d-fdf5-414e-8069-b20ae230181f",
   "metadata": {},
   "outputs": [
    {
     "data": {
      "text/plain": [
       "0    22.7\n",
       "1    22.7\n",
       "2    22.7\n",
       "3    22.7\n",
       "4    22.7\n",
       "Name: ward_temperature, dtype: float64"
      ]
     },
     "execution_count": 42,
     "metadata": {},
     "output_type": "execute_result"
    }
   ],
   "source": [
    "ward_temperature.head()"
   ]
  },
  {
   "cell_type": "code",
   "execution_count": 43,
   "id": "a2449acd-afe1-4ee0-a897-e82647ee7444",
   "metadata": {},
   "outputs": [
    {
     "data": {
      "text/plain": [
       "<bound method Series.mean of 0       22.7\n",
       "1       22.7\n",
       "2       22.7\n",
       "3       22.7\n",
       "4       22.7\n",
       "        ... \n",
       "1238    23.8\n",
       "1239    23.8\n",
       "1240    23.9\n",
       "1241    23.8\n",
       "1242    23.9\n",
       "Name: ward_temperature, Length: 1243, dtype: float64>"
      ]
     },
     "execution_count": 43,
     "metadata": {},
     "output_type": "execute_result"
    }
   ],
   "source": [
    "ward_temperature.mean"
   ]
  },
  {
   "cell_type": "code",
   "execution_count": 44,
   "id": "8f6e355b-225b-48dd-9284-e1856c238048",
   "metadata": {},
   "outputs": [],
   "source": [
    "ward_humidity = sensor_data_2[\"ward_humidity\"]"
   ]
  },
  {
   "cell_type": "code",
   "execution_count": 45,
   "id": "cda31490-bbf0-42f6-bcdf-45dfd2d741c2",
   "metadata": {},
   "outputs": [
    {
     "data": {
      "text/plain": [
       "0    84.1\n",
       "1    83.9\n",
       "2    84.0\n",
       "3    84.0\n",
       "4    84.0\n",
       "Name: ward_humidity, dtype: float64"
      ]
     },
     "execution_count": 45,
     "metadata": {},
     "output_type": "execute_result"
    }
   ],
   "source": [
    "ward_humidity.head()"
   ]
  },
  {
   "cell_type": "code",
   "execution_count": 46,
   "id": "3f62eaa8-dd62-48ab-995d-88caa3f08df7",
   "metadata": {},
   "outputs": [
    {
     "data": {
      "text/plain": [
       "1238    84.7\n",
       "1239    85.5\n",
       "1240    85.7\n",
       "1241    85.6\n",
       "1242    85.4\n",
       "Name: ward_humidity, dtype: float64"
      ]
     },
     "execution_count": 46,
     "metadata": {},
     "output_type": "execute_result"
    }
   ],
   "source": [
    "ward_humidity.tail()"
   ]
  },
  {
   "cell_type": "code",
   "execution_count": 47,
   "id": "77118523-4ad2-4f8e-8bc5-b4d16a2e19aa",
   "metadata": {},
   "outputs": [
    {
     "data": {
      "text/plain": [
       "np.float64(85.11649235720031)"
      ]
     },
     "execution_count": 47,
     "metadata": {},
     "output_type": "execute_result"
    }
   ],
   "source": [
    "ward_humidity.mean()"
   ]
  },
  {
   "cell_type": "code",
   "execution_count": 48,
   "id": "4641e64b-2ca6-4928-8d67-44edaac71386",
   "metadata": {},
   "outputs": [
    {
     "data": {
      "text/plain": [
       "(array([189.,  20.,   0., 137., 342., 127., 111., 116., 106.,  95.]),\n",
       " array([21.6 , 21.83, 22.06, 22.29, 22.52, 22.75, 22.98, 23.21, 23.44,\n",
       "        23.67, 23.9 ]),\n",
       " <BarContainer object of 10 artists>)"
      ]
     },
     "execution_count": 48,
     "metadata": {},
     "output_type": "execute_result"
    },
    {
     "data": {
      "image/png": "[encoded data removed]",
      "text/plain": [
       "<Figure size 640x480 with 1 Axes>"
      ]
     },
     "metadata": {},
     "output_type": "display_data"
    }
   ],
   "source": [
    "plt.hist(ward_temperature)"
   ]
  },
  {
   "cell_type": "code",
   "execution_count": 49,
   "id": "dd9f973e-11ff-46f1-9b70-0c905c5b95cd",
   "metadata": {},
   "outputs": [
    {
     "data": {
      "text/plain": [
       "(array([ 38.,  54.,  29.,   7.,   0.,   0., 122., 632., 327.,  34.]),\n",
       " array([71.1 , 73.08, 75.06, 77.04, 79.02, 81.  , 82.98, 84.96, 86.94,\n",
       "        88.92, 90.9 ]),\n",
       " <BarContainer object of 10 artists>)"
      ]
     },
     "execution_count": 49,
     "metadata": {},
     "output_type": "execute_result"
    },
    {
     "data": {
      "image/png": "[encoded data removed]",
      "text/plain": [
       "<Figure size 640x480 with 1 Axes>"
      ]
     },
     "metadata": {},
     "output_type": "display_data"
    }
   ],
   "source": [
    "plt.hist(ward_humidity)"
   ]
  },
  {
   "cell_type": "code",
   "execution_count": 50,
   "id": "b4ea4e20-57d9-48ef-be3e-1b459edff58c",
   "metadata": {},
   "outputs": [],
   "source": [
    "arr_2 = range(1243)"
   ]
  },
  {
   "cell_type": "code",
   "execution_count": 51,
   "id": "c71744e6-a998-4541-b274-a4025c004e0d",
   "metadata": {},
   "outputs": [
    {
     "data": {
      "text/plain": [
       "range(0, 1243)"
      ]
     },
     "execution_count": 51,
     "metadata": {},
     "output_type": "execute_result"
    }
   ],
   "source": [
    "arr_2"
   ]
  },
  {
   "cell_type": "code",
   "execution_count": 52,
   "id": "40ee5cc8-da9d-4bc4-85bd-c8e19e211cb8",
   "metadata": {},
   "outputs": [
    {
     "data": {
      "text/plain": [
       "[<matplotlib.lines.Line2D at 0x1c5e7018cd0>]"
      ]
     },
     "execution_count": 52,
     "metadata": {},
     "output_type": "execute_result"
    },
    {
     "data": {
      "image/png": "[encoded data removed]",
      "text/plain": [
       "<Figure size 640x480 with 1 Axes>"
      ]
     },
     "metadata": {},
     "output_type": "display_data"
    }
   ],
   "source": [
    "plt.plot(arr_2, ward_temperature)"
   ]
  },
  {
   "cell_type": "code",
   "execution_count": 54,
   "id": "425cfae9-75db-4941-97de-02f4a39e4a86",
   "metadata": {},
   "outputs": [
    {
     "data": {
      "image/png": "[encoded data removed]",
      "text/plain": [
       "<Figure size 640x480 with 1 Axes>"
      ]
     },
     "metadata": {},
     "output_type": "display_data"
    }
   ],
   "source": [
    "plt.plot(arr_2, ward_humidity)\n",
    "plt.grid()\n",
    "plt.show()"
   ]
  },
  {
   "cell_type": "code",
   "execution_count": 59,
   "id": "7b000a8a-a9fb-40f5-9e56-a792dae57266",
   "metadata": {},
   "outputs": [
    {
     "data": {
      "text/plain": [
       "<matplotlib.collections.PathCollection at 0x1c5e71f2850>"
      ]
     },
     "execution_count": 59,
     "metadata": {},
     "output_type": "execute_result"
    },
    {
     "data": {
      "image/png": "[encoded data removed]",
      "text/plain": [
       "<Figure size 640x480 with 1 Axes>"
      ]
     },
     "metadata": {},
     "output_type": "display_data"
    }
   ],
   "source": [
    "plt.scatter(ward_humidity, ward_temperature)"
   ]
  },
  {
   "cell_type": "code",
   "execution_count": 60,
   "id": "0027db9e-bd06-4aac-9e20-3193e1eae308",
   "metadata": {},
   "outputs": [
    {
     "data": {
      "text/plain": [
       "<bound method Series.info of 0      26.2\n",
       "1      26.2\n",
       "2      26.2\n",
       "3      26.2\n",
       "4      26.2\n",
       "       ... \n",
       "360    26.2\n",
       "361    26.2\n",
       "362    26.2\n",
       "363    26.2\n",
       "364    26.2\n",
       "Name: temperature, Length: 365, dtype: float64>"
      ]
     },
     "execution_count": 60,
     "metadata": {},
     "output_type": "execute_result"
    }
   ],
   "source": [
    "temperature.info"
   ]
  },
  {
   "cell_type": "code",
   "execution_count": 61,
   "id": "a94b5ce4-3182-4e18-b1e2-41a84a3a72c2",
   "metadata": {},
   "outputs": [
    {
     "data": {
      "text/plain": [
       "<bound method DataFrame.info of      temperature  humidity\n",
       "0           26.2      83.5\n",
       "1           26.2      83.5\n",
       "2           26.2      83.5\n",
       "3           26.2      83.5\n",
       "4           26.2      83.5\n",
       "..           ...       ...\n",
       "360         26.2      81.3\n",
       "361         26.2      81.2\n",
       "362         26.2      81.2\n",
       "363         26.2      81.4\n",
       "364         26.2      81.6\n",
       "\n",
       "[365 rows x 2 columns]>"
      ]
     },
     "execution_count": 61,
     "metadata": {},
     "output_type": "execute_result"
    }
   ],
   "source": [
    "sensor_data.info"
   ]
  },
  {
   "cell_type": "code",
   "execution_count": 62,
   "id": "a6e181fd-c34d-4ebc-a6fa-8048b4315658",
   "metadata": {},
   "outputs": [
    {
     "data": {
      "text/html": [
       "<div>\n",
       "<style scoped>\n",
       "    .dataframe tbody tr th:only-of-type {\n",
       "        vertical-align: middle;\n",
       "    }\n",
       "\n",
       "    .dataframe tbody tr th {\n",
       "        vertical-align: top;\n",
       "    }\n",
       "\n",
       "    .dataframe thead th {\n",
       "        text-align: right;\n",
       "    }\n",
       "</style>\n",
       "<table border=\"1\" class=\"dataframe\">\n",
       "  <thead>\n",
       "    <tr style=\"text-align: right;\">\n",
       "      <th></th>\n",
       "      <th>temperature</th>\n",
       "      <th>humidity</th>\n",
       "    </tr>\n",
       "  </thead>\n",
       "  <tbody>\n",
       "    <tr>\n",
       "      <th>temperature</th>\n",
       "      <td>1.0000</td>\n",
       "      <td>0.1707</td>\n",
       "    </tr>\n",
       "    <tr>\n",
       "      <th>humidity</th>\n",
       "      <td>0.1707</td>\n",
       "      <td>1.0000</td>\n",
       "    </tr>\n",
       "  </tbody>\n",
       "</table>\n",
       "</div>"
      ],
      "text/plain": [
       "             temperature  humidity\n",
       "temperature       1.0000    0.1707\n",
       "humidity          0.1707    1.0000"
      ]
     },
     "execution_count": 62,
     "metadata": {},
     "output_type": "execute_result"
    }
   ],
   "source": [
    "sensor_data.corr()"
   ]
  },
  {
   "cell_type": "code",
   "execution_count": 63,
   "id": "bc56d7ab-4e93-4675-a79c-25b1d336d95d",
   "metadata": {},
   "outputs": [
    {
     "data": {
      "text/html": [
       "<div>\n",
       "<style scoped>\n",
       "    .dataframe tbody tr th:only-of-type {\n",
       "        vertical-align: middle;\n",
       "    }\n",
       "\n",
       "    .dataframe tbody tr th {\n",
       "        vertical-align: top;\n",
       "    }\n",
       "\n",
       "    .dataframe thead th {\n",
       "        text-align: right;\n",
       "    }\n",
       "</style>\n",
       "<table border=\"1\" class=\"dataframe\">\n",
       "  <thead>\n",
       "    <tr style=\"text-align: right;\">\n",
       "      <th></th>\n",
       "      <th>ward_temperature</th>\n",
       "      <th>ward_humidity</th>\n",
       "    </tr>\n",
       "  </thead>\n",
       "  <tbody>\n",
       "    <tr>\n",
       "      <th>ward_temperature</th>\n",
       "      <td>1.000000</td>\n",
       "      <td>0.078392</td>\n",
       "    </tr>\n",
       "    <tr>\n",
       "      <th>ward_humidity</th>\n",
       "      <td>0.078392</td>\n",
       "      <td>1.000000</td>\n",
       "    </tr>\n",
       "  </tbody>\n",
       "</table>\n",
       "</div>"
      ],
      "text/plain": [
       "                  ward_temperature  ward_humidity\n",
       "ward_temperature          1.000000       0.078392\n",
       "ward_humidity             0.078392       1.000000"
      ]
     },
     "execution_count": 63,
     "metadata": {},
     "output_type": "execute_result"
    }
   ],
   "source": [
    "sensor_data_2.corr()"
   ]
  },
  {
   "cell_type": "code",
   "execution_count": 65,
   "id": "535feee2-eae7-4904-97a0-6958f880aaab",
   "metadata": {},
   "outputs": [],
   "source": [
    "diff_arr = sensor_data.diff()"
   ]
  },
  {
   "cell_type": "code",
   "execution_count": 66,
   "id": "aa8451b8-41c1-4c1b-ad7e-4763a8b4475c",
   "metadata": {},
   "outputs": [
    {
     "data": {
      "text/html": [
       "<div>\n",
       "<style scoped>\n",
       "    .dataframe tbody tr th:only-of-type {\n",
       "        vertical-align: middle;\n",
       "    }\n",
       "\n",
       "    .dataframe tbody tr th {\n",
       "        vertical-align: top;\n",
       "    }\n",
       "\n",
       "    .dataframe thead th {\n",
       "        text-align: right;\n",
       "    }\n",
       "</style>\n",
       "<table border=\"1\" class=\"dataframe\">\n",
       "  <thead>\n",
       "    <tr style=\"text-align: right;\">\n",
       "      <th></th>\n",
       "      <th>temperature</th>\n",
       "      <th>humidity</th>\n",
       "    </tr>\n",
       "  </thead>\n",
       "  <tbody>\n",
       "    <tr>\n",
       "      <th>0</th>\n",
       "      <td>NaN</td>\n",
       "      <td>NaN</td>\n",
       "    </tr>\n",
       "    <tr>\n",
       "      <th>1</th>\n",
       "      <td>0.0</td>\n",
       "      <td>0.0</td>\n",
       "    </tr>\n",
       "    <tr>\n",
       "      <th>2</th>\n",
       "      <td>0.0</td>\n",
       "      <td>0.0</td>\n",
       "    </tr>\n",
       "    <tr>\n",
       "      <th>3</th>\n",
       "      <td>0.0</td>\n",
       "      <td>0.0</td>\n",
       "    </tr>\n",
       "    <tr>\n",
       "      <th>4</th>\n",
       "      <td>0.0</td>\n",
       "      <td>0.0</td>\n",
       "    </tr>\n",
       "    <tr>\n",
       "      <th>...</th>\n",
       "      <td>...</td>\n",
       "      <td>...</td>\n",
       "    </tr>\n",
       "    <tr>\n",
       "      <th>360</th>\n",
       "      <td>0.0</td>\n",
       "      <td>0.0</td>\n",
       "    </tr>\n",
       "    <tr>\n",
       "      <th>361</th>\n",
       "      <td>0.0</td>\n",
       "      <td>-0.1</td>\n",
       "    </tr>\n",
       "    <tr>\n",
       "      <th>362</th>\n",
       "      <td>0.0</td>\n",
       "      <td>0.0</td>\n",
       "    </tr>\n",
       "    <tr>\n",
       "      <th>363</th>\n",
       "      <td>0.0</td>\n",
       "      <td>0.2</td>\n",
       "    </tr>\n",
       "    <tr>\n",
       "      <th>364</th>\n",
       "      <td>0.0</td>\n",
       "      <td>0.2</td>\n",
       "    </tr>\n",
       "  </tbody>\n",
       "</table>\n",
       "<p>365 rows × 2 columns</p>\n",
       "</div>"
      ],
      "text/plain": [
       "     temperature  humidity\n",
       "0            NaN       NaN\n",
       "1            0.0       0.0\n",
       "2            0.0       0.0\n",
       "3            0.0       0.0\n",
       "4            0.0       0.0\n",
       "..           ...       ...\n",
       "360          0.0       0.0\n",
       "361          0.0      -0.1\n",
       "362          0.0       0.0\n",
       "363          0.0       0.2\n",
       "364          0.0       0.2\n",
       "\n",
       "[365 rows x 2 columns]"
      ]
     },
     "execution_count": 66,
     "metadata": {},
     "output_type": "execute_result"
    }
   ],
   "source": [
    "diff_arr"
   ]
  },
  {
   "cell_type": "code",
   "execution_count": 67,
   "id": "06622dc0-2981-4c85-a9de-299c38a4e642",
   "metadata": {},
   "outputs": [
    {
     "data": {
      "text/html": [
       "<div>\n",
       "<style scoped>\n",
       "    .dataframe tbody tr th:only-of-type {\n",
       "        vertical-align: middle;\n",
       "    }\n",
       "\n",
       "    .dataframe tbody tr th {\n",
       "        vertical-align: top;\n",
       "    }\n",
       "\n",
       "    .dataframe thead th {\n",
       "        text-align: right;\n",
       "    }\n",
       "</style>\n",
       "<table border=\"1\" class=\"dataframe\">\n",
       "  <thead>\n",
       "    <tr style=\"text-align: right;\">\n",
       "      <th></th>\n",
       "      <th>ward_temperature</th>\n",
       "      <th>ward_humidity</th>\n",
       "    </tr>\n",
       "  </thead>\n",
       "  <tbody>\n",
       "    <tr>\n",
       "      <th>0</th>\n",
       "      <td>NaN</td>\n",
       "      <td>NaN</td>\n",
       "    </tr>\n",
       "    <tr>\n",
       "      <th>1</th>\n",
       "      <td>0.0</td>\n",
       "      <td>-0.2</td>\n",
       "    </tr>\n",
       "    <tr>\n",
       "      <th>2</th>\n",
       "      <td>0.0</td>\n",
       "      <td>0.1</td>\n",
       "    </tr>\n",
       "    <tr>\n",
       "      <th>3</th>\n",
       "      <td>0.0</td>\n",
       "      <td>0.0</td>\n",
       "    </tr>\n",
       "    <tr>\n",
       "      <th>4</th>\n",
       "      <td>0.0</td>\n",
       "      <td>0.0</td>\n",
       "    </tr>\n",
       "    <tr>\n",
       "      <th>...</th>\n",
       "      <td>...</td>\n",
       "      <td>...</td>\n",
       "    </tr>\n",
       "    <tr>\n",
       "      <th>1238</th>\n",
       "      <td>-0.1</td>\n",
       "      <td>-0.1</td>\n",
       "    </tr>\n",
       "    <tr>\n",
       "      <th>1239</th>\n",
       "      <td>0.0</td>\n",
       "      <td>0.8</td>\n",
       "    </tr>\n",
       "    <tr>\n",
       "      <th>1240</th>\n",
       "      <td>0.1</td>\n",
       "      <td>0.2</td>\n",
       "    </tr>\n",
       "    <tr>\n",
       "      <th>1241</th>\n",
       "      <td>-0.1</td>\n",
       "      <td>-0.1</td>\n",
       "    </tr>\n",
       "    <tr>\n",
       "      <th>1242</th>\n",
       "      <td>0.1</td>\n",
       "      <td>-0.2</td>\n",
       "    </tr>\n",
       "  </tbody>\n",
       "</table>\n",
       "<p>1243 rows × 2 columns</p>\n",
       "</div>"
      ],
      "text/plain": [
       "      ward_temperature  ward_humidity\n",
       "0                  NaN            NaN\n",
       "1                  0.0           -0.2\n",
       "2                  0.0            0.1\n",
       "3                  0.0            0.0\n",
       "4                  0.0            0.0\n",
       "...                ...            ...\n",
       "1238              -0.1           -0.1\n",
       "1239               0.0            0.8\n",
       "1240               0.1            0.2\n",
       "1241              -0.1           -0.1\n",
       "1242               0.1           -0.2\n",
       "\n",
       "[1243 rows x 2 columns]"
      ]
     },
     "execution_count": 67,
     "metadata": {},
     "output_type": "execute_result"
    }
   ],
   "source": [
    "sensor_data_2.diff()"
   ]
  },
  {
   "cell_type": "code",
   "execution_count": null,
   "id": "71266b1f-388d-4099-9bda-1b16d34e48bf",
   "metadata": {},
   "outputs": [],
   "source": []
  }
 ],
 "metadata": {
  "kernelspec": {
   "display_name": "Python 3 (ipykernel)",
   "language": "python",
   "name": "python3"
  },
  "language_info": {
   "codemirror_mode": {
    "name": "ipython",
    "version": 3
   },
   "file_extension": ".py",
   "mimetype": "text/x-python",
   "name": "python",
   "nbconvert_exporter": "python",
   "pygments_lexer": "ipython3",
   "version": "3.13.2"
  }
 },
 "nbformat": 4,
 "nbformat_minor": 5
}
