{
 "cells": [
  {
   "cell_type": "code",
   "execution_count": 1,
   "id": "9964d001-72ce-489c-a247-39a4449750de",
   "metadata": {},
   "outputs": [],
   "source": [
    "import numpy as np"
   ]
  },
  {
   "cell_type": "markdown",
   "id": "e31b4aa3-8e3d-4278-9acd-db3c1e94343e",
   "metadata": {},
   "source": [
    "## Introduction"
   ]
  },
  {
   "cell_type": "code",
   "execution_count": 2,
   "id": "c0b5cf64-2348-4317-97c5-64718567fa82",
   "metadata": {},
   "outputs": [
    {
     "data": {
      "text/plain": [
       "array([1, 2, 3, 4, 5])"
      ]
     },
     "execution_count": 2,
     "metadata": {},
     "output_type": "execute_result"
    }
   ],
   "source": [
    "arr = np.array([1,2,3,4,5])\n",
    "arr"
   ]
  },
  {
   "cell_type": "code",
   "execution_count": 7,
   "id": "41ad1741-5d56-4916-9019-2c46fbf301e5",
   "metadata": {},
   "outputs": [
    {
     "data": {
      "text/plain": [
       "numpy.ndarray"
      ]
     },
     "execution_count": 7,
     "metadata": {},
     "output_type": "execute_result"
    }
   ],
   "source": [
    "type(arr)"
   ]
  },
  {
   "cell_type": "code",
   "execution_count": 8,
   "id": "e9a31e22-03d8-4340-8537-551d1b75efc6",
   "metadata": {},
   "outputs": [
    {
     "data": {
      "text/plain": [
       "array([[1, 2, 3],\n",
       "       [4, 5, 6]])"
      ]
     },
     "execution_count": 8,
     "metadata": {},
     "output_type": "execute_result"
    }
   ],
   "source": [
    "two_d = np.array([[1,2,3], [4,5,6]])\n",
    "two_d"
   ]
  },
  {
   "cell_type": "code",
   "execution_count": 9,
   "id": "9ff77eb6-a2c0-4545-b8fa-6107a0546066",
   "metadata": {},
   "outputs": [
    {
     "data": {
      "text/plain": [
       "array([[[ 1,  2,  3],\n",
       "        [ 4,  5,  6]],\n",
       "\n",
       "       [[ 7,  8,  9],\n",
       "        [10, 11, 12]]])"
      ]
     },
     "execution_count": 9,
     "metadata": {},
     "output_type": "execute_result"
    }
   ],
   "source": [
    "three_d = np.array([[[1,2,3],[4,5,6]], [[7,8,9], [10,11,12]]])\n",
    "three_d"
   ]
  },
  {
   "cell_type": "code",
   "execution_count": 10,
   "id": "ace29851-cf84-4a6b-a942-560c76269b01",
   "metadata": {},
   "outputs": [
    {
     "data": {
      "text/plain": [
       "1"
      ]
     },
     "execution_count": 10,
     "metadata": {},
     "output_type": "execute_result"
    }
   ],
   "source": [
    "arr.ndim"
   ]
  },
  {
   "cell_type": "code",
   "execution_count": 11,
   "id": "75e88161-4ac5-43d0-aa34-0ec1b892c3c4",
   "metadata": {},
   "outputs": [
    {
     "data": {
      "text/plain": [
       "2"
      ]
     },
     "execution_count": 11,
     "metadata": {},
     "output_type": "execute_result"
    }
   ],
   "source": [
    "two_d.ndim"
   ]
  },
  {
   "cell_type": "code",
   "execution_count": 12,
   "id": "53020b04-1772-4dfe-8f5f-15b7d16c21db",
   "metadata": {},
   "outputs": [
    {
     "data": {
      "text/plain": [
       "3"
      ]
     },
     "execution_count": 12,
     "metadata": {},
     "output_type": "execute_result"
    }
   ],
   "source": [
    "three_d.ndim"
   ]
  },
  {
   "cell_type": "code",
   "execution_count": 13,
   "id": "e2eb2485-71dd-46f1-a86e-e384d75ce0bb",
   "metadata": {},
   "outputs": [
    {
     "data": {
      "text/plain": [
       "array([[[[[1, 2, 3, 5]]]]])"
      ]
     },
     "execution_count": 13,
     "metadata": {},
     "output_type": "execute_result"
    }
   ],
   "source": [
    "high_d = np.array([1,2,3,5], ndmin=5)\n",
    "high_d"
   ]
  },
  {
   "cell_type": "code",
   "execution_count": 14,
   "id": "e60b131e-86f7-4433-af32-52c4c2204d44",
   "metadata": {},
   "outputs": [
    {
     "data": {
      "text/plain": [
       "5"
      ]
     },
     "execution_count": 14,
     "metadata": {},
     "output_type": "execute_result"
    }
   ],
   "source": [
    "high_d.ndim"
   ]
  },
  {
   "cell_type": "markdown",
   "id": "3ff1889b-5e67-4900-8cde-c3d654a77f62",
   "metadata": {},
   "source": [
    "## Array Indexing"
   ]
  },
  {
   "cell_type": "code",
   "execution_count": 15,
   "id": "71c11237-27a6-42a9-b00b-6b56612d6d15",
   "metadata": {},
   "outputs": [
    {
     "data": {
      "text/plain": [
       "np.int64(1)"
      ]
     },
     "execution_count": 15,
     "metadata": {},
     "output_type": "execute_result"
    }
   ],
   "source": [
    "arr[0]"
   ]
  },
  {
   "cell_type": "code",
   "execution_count": 16,
   "id": "dac55098-17b8-439f-a49e-6bb8dd4c58f9",
   "metadata": {},
   "outputs": [
    {
     "data": {
      "text/plain": [
       "np.int64(2)"
      ]
     },
     "execution_count": 16,
     "metadata": {},
     "output_type": "execute_result"
    }
   ],
   "source": [
    "arr[1]"
   ]
  },
  {
   "cell_type": "code",
   "execution_count": 17,
   "id": "ef46e6c6-0e8e-44a0-881d-272df6c94da6",
   "metadata": {},
   "outputs": [
    {
     "name": "stdout",
     "output_type": "stream",
     "text": [
      "2\n"
     ]
    }
   ],
   "source": [
    "print(arr[1])"
   ]
  },
  {
   "cell_type": "code",
   "execution_count": 19,
   "id": "2a352155-30ea-43e1-83f9-68dd0228bad0",
   "metadata": {},
   "outputs": [
    {
     "name": "stdout",
     "output_type": "stream",
     "text": [
      "2\n"
     ]
    }
   ],
   "source": [
    "print(two_d[0,1])"
   ]
  },
  {
   "cell_type": "code",
   "execution_count": 20,
   "id": "b8c64beb-5efa-407d-95eb-7c4ff2e769e3",
   "metadata": {},
   "outputs": [
    {
     "data": {
      "text/plain": [
       "array([[1, 2, 3],\n",
       "       [4, 5, 6]])"
      ]
     },
     "execution_count": 20,
     "metadata": {},
     "output_type": "execute_result"
    }
   ],
   "source": [
    "two_d"
   ]
  },
  {
   "cell_type": "code",
   "execution_count": 21,
   "id": "e10380bf-613c-48bf-9e90-a3ad51254661",
   "metadata": {},
   "outputs": [
    {
     "data": {
      "text/plain": [
       "np.int64(5)"
      ]
     },
     "execution_count": 21,
     "metadata": {},
     "output_type": "execute_result"
    }
   ],
   "source": [
    "two_d[1,1]"
   ]
  },
  {
   "cell_type": "code",
   "execution_count": 22,
   "id": "461df9cc-47f3-4e03-96f1-e94ee1ca3ddb",
   "metadata": {},
   "outputs": [
    {
     "data": {
      "text/plain": [
       "array([[[ 1,  2,  3],\n",
       "        [ 4,  5,  6]],\n",
       "\n",
       "       [[ 7,  8,  9],\n",
       "        [10, 11, 12]]])"
      ]
     },
     "execution_count": 22,
     "metadata": {},
     "output_type": "execute_result"
    }
   ],
   "source": [
    "three_d"
   ]
  },
  {
   "cell_type": "code",
   "execution_count": 24,
   "id": "a973bf7b-7060-4f85-97ec-d0407d367b08",
   "metadata": {},
   "outputs": [
    {
     "data": {
      "text/plain": [
       "np.int64(3)"
      ]
     },
     "execution_count": 24,
     "metadata": {},
     "output_type": "execute_result"
    }
   ],
   "source": [
    "three_d[0,0,2]"
   ]
  },
  {
   "cell_type": "code",
   "execution_count": 25,
   "id": "50058c20-e9f1-4fad-bec9-eef92f1bc411",
   "metadata": {},
   "outputs": [
    {
     "data": {
      "text/plain": [
       "np.int64(12)"
      ]
     },
     "execution_count": 25,
     "metadata": {},
     "output_type": "execute_result"
    }
   ],
   "source": [
    "three_d[1,1,2]"
   ]
  },
  {
   "cell_type": "markdown",
   "id": "e0c731f0-a64d-40e5-a4a5-787b8f741410",
   "metadata": {},
   "source": [
    "### Negative indexing"
   ]
  },
  {
   "cell_type": "code",
   "execution_count": 26,
   "id": "1524c474-391f-42c5-a10e-a5ff899e7da2",
   "metadata": {},
   "outputs": [
    {
     "data": {
      "text/plain": [
       "np.int64(6)"
      ]
     },
     "execution_count": 26,
     "metadata": {},
     "output_type": "execute_result"
    }
   ],
   "source": [
    "#Last element in 2nd dimension\n",
    "two_d[1,-1]"
   ]
  },
  {
   "cell_type": "code",
   "execution_count": 27,
   "id": "b51f35f4-d9ca-45ba-9ecc-267c48bd2c5c",
   "metadata": {},
   "outputs": [
    {
     "data": {
      "text/plain": [
       "array([[1, 2, 3],\n",
       "       [4, 5, 6]])"
      ]
     },
     "execution_count": 27,
     "metadata": {},
     "output_type": "execute_result"
    }
   ],
   "source": [
    "two_d"
   ]
  },
  {
   "cell_type": "markdown",
   "id": "b7d32ed8-0811-4b33-b5f2-da7a75f0582a",
   "metadata": {},
   "source": [
    "## Slicing arrays"
   ]
  },
  {
   "cell_type": "code",
   "execution_count": null,
   "id": "b50f2e4d-8f20-4fb8-8663-6edba60ada85",
   "metadata": {},
   "outputs": [],
   "source": []
  }
 ],
 "metadata": {
  "kernelspec": {
   "display_name": "Python 3 (ipykernel)",
   "language": "python",
   "name": "python3"
  },
  "language_info": {
   "codemirror_mode": {
    "name": "ipython",
    "version": 3
   },
   "file_extension": ".py",
   "mimetype": "text/x-python",
   "name": "python",
   "nbconvert_exporter": "python",
   "pygments_lexer": "ipython3",
   "version": "3.13.2"
  }
 },
 "nbformat": 4,
 "nbformat_minor": 5
}
